{
  "nbformat": 4,
  "nbformat_minor": 0,
  "metadata": {
    "colab": {
      "provenance": [],
      "authorship_tag": "ABX9TyPuH1i7fTzhfN2EKI0sPnx1",
      "include_colab_link": true
    },
    "kernelspec": {
      "name": "python3",
      "display_name": "Python 3"
    },
    "language_info": {
      "name": "python"
    }
  },
  "cells": [
    {
      "cell_type": "markdown",
      "metadata": {
        "id": "view-in-github",
        "colab_type": "text"
      },
      "source": [
        "<a href=\"https://colab.research.google.com/github/sonamog/CookBookApp/blob/master/DissertationChapter2.ipynb\" target=\"_parent\"><img src=\"https://colab.research.google.com/assets/colab-badge.svg\" alt=\"Open In Colab\"/></a>"
      ]
    },
    {
      "cell_type": "markdown",
      "source": [
        "# Time Series Analysis - Forecasting Co2 for the next 5 years"
      ],
      "metadata": {
        "id": "y8MheUv92pYv"
      }
    },
    {
      "cell_type": "code",
      "execution_count": null,
      "metadata": {
        "id": "lWae6uaxlLvN"
      },
      "outputs": [],
      "source": [
        "# Time series\n",
        "\n",
        "import numpy as np\n",
        "import pandas as pd\n",
        "import matplotlib.pyplot as plt\n",
        "\n",
        "df = pd.read_csv(\"/content/Co2/MER_T01_01.csv\")\n"
      ]
    },
    {
      "cell_type": "code",
      "source": [
        "from google.colab import drive\n",
        "drive.mount('/content/drive')"
      ],
      "metadata": {
        "id": "MYBsdYwr1QCp"
      },
      "execution_count": null,
      "outputs": []
    },
    {
      "cell_type": "code",
      "source": [
        "list(df['Description'].unique())\n",
        "\n"
      ],
      "metadata": {
        "id": "qR9shJc4mCWo",
        "outputId": "b6fd4fea-8d69-40fe-9974-c00562010c40",
        "colab": {
          "base_uri": "https://localhost:8080/"
        }
      },
      "execution_count": null,
      "outputs": [
        {
          "output_type": "execute_result",
          "data": {
            "text/plain": [
              "['Total Fossil Fuels Production',\n",
              " 'Nuclear Electric Power Production',\n",
              " 'Total Renewable Energy Production',\n",
              " 'Total Primary Energy Production',\n",
              " 'Primary Energy Imports',\n",
              " 'Primary Energy Exports',\n",
              " 'Primary Energy Net Imports',\n",
              " 'Primary Energy Stock Change and Other',\n",
              " 'Total Fossil Fuels Consumption',\n",
              " 'Nuclear Electric Power Consumption',\n",
              " 'Total Renewable Energy Consumption',\n",
              " 'Total Primary Energy Consumption']"
            ]
          },
          "metadata": {},
          "execution_count": 7
        }
      ]
    }
  ]
}